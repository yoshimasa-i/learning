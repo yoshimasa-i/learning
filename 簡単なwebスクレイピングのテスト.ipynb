{
 "cells": [
  {
   "cell_type": "markdown",
   "metadata": {},
   "source": [
    "# webスクレイピングやってみた\n",
    "\n",
    "とあるサイトからページ数をループさせてh2の情報をCSVへエクスポートする"
   ]
  },
  {
   "cell_type": "code",
   "execution_count": null,
   "metadata": {},
   "outputs": [],
   "source": [
    "# coding: UTF-8\n",
    "from urllib import request\n",
    "from bs4 import BeautifulSoup\n",
    "import pandas as pd\n",
    "\n",
    "# setting -------------------------------\n",
    "URL_BASE = 'http://www.example.com?pageno='\n",
    "\n",
    "# データ格納用のデータフレーム -------------------------------------\n",
    "df = pd.DataFrame()\n",
    "\n",
    "# 銘柄コードのループ -------------------------------------------\n",
    "for code in [1,2,3]:\n",
    "    \n",
    "    # get html ----------------------------------\n",
    "    url = URL_BASE + str(code)\n",
    "    html = request.urlopen(url)\n",
    "\n",
    "    # Beautiful soup ----------------------------------\n",
    "    soup = BeautifulSoup(html, 'html.parser')\n",
    "\n",
    "    # 四本値取得、セット ------------------------------------------\n",
    "    table = soup.findAll('h2')\n",
    "\n",
    "    for h2 in table:\n",
    "        with open(\"california.csv\", \"a\") as file:\n",
    "            print(h2.text, file=file)"
   ]
  }
 ],
 "metadata": {
  "kernelspec": {
   "display_name": "Python 3",
   "language": "python",
   "name": "python3"
  },
  "language_info": {
   "codemirror_mode": {
    "name": "ipython",
    "version": 3
   },
   "file_extension": ".py",
   "mimetype": "text/x-python",
   "name": "python",
   "nbconvert_exporter": "python",
   "pygments_lexer": "ipython3",
   "version": "3.6.5"
  }
 },
 "nbformat": 4,
 "nbformat_minor": 2
}
