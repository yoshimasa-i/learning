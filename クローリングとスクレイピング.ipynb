{
 "cells": [
  {
   "cell_type": "markdown",
   "metadata": {},
   "source": [
    "## 1章 クローリングとスクレイピング"
   ]
  },
  {
   "cell_type": "markdown",
   "metadata": {},
   "source": [
    "#### データのダウンロード"
   ]
  },
  {
   "cell_type": "code",
   "execution_count": 2,
   "metadata": {},
   "outputs": [
    {
     "name": "stdout",
     "output_type": "stream",
     "text": [
      "保存しました\n"
     ]
    }
   ],
   "source": [
    "# ライブラリの取り込み\n",
    "import urllib.request\n",
    "\n",
    "# URLと保存パスを指定\n",
    "url = \"http://uta.pw/shodou/img/28/214.png\"\n",
    "savename = \"/Users/yoshimasa_i/00_inbox/test.png\"\n",
    "\n",
    "# ダウンロード\n",
    "urllib.request.urlretrieve(url, savename)\n",
    "print (\"保存しました\")"
   ]
  },
  {
   "cell_type": "code",
   "execution_count": 10,
   "metadata": {},
   "outputs": [
    {
     "name": "stdout",
     "output_type": "stream",
     "text": [
      "保存しました\n"
     ]
    }
   ],
   "source": [
    "# ライブラリの取り込み\n",
    "import urllib.request\n",
    "\n",
    "# URLと保存パスを指定\n",
    "url = \"http://uta.pw/shodou/img/28/214.png\"\n",
    "savename = \"/Users/yoshimasa_i/00_inbox/test.png\"\n",
    "\n",
    "# ダウンロード\n",
    "men = urllib.request.urlopen(url).read()\n",
    "\n",
    "# ファイルへ保存\n",
    "with open(savename, mode=\"wb\") as f:\n",
    "    f.write(men)\n",
    "    print (\"保存しました\")"
   ]
  },
  {
   "cell_type": "code",
   "execution_count": 13,
   "metadata": {},
   "outputs": [
    {
     "name": "stdout",
     "output_type": "stream",
     "text": [
      "[ip]\n",
      "API_URI=http://api.aoikujira.com/ip/get.php\n",
      "REMOTE_ADDR=114.161.71.182\n",
      "REMOTE_HOST=p1507182-ipngn200308osakachuo.osaka.ocn.ne.jp\n",
      "REMOTE_PORT=59724\n",
      "HTTP_HOST=api.aoikujira.com\n",
      "HTTP_USER_AGENT=Python-urllib/3.6\n",
      "HTTP_ACCEPT_LANGUAGE=\n",
      "HTTP_ACCEPT_CHARSET=\n",
      "SERVER_PORT=80\n",
      "FORMAT=ini\n",
      "\n",
      "\n"
     ]
    }
   ],
   "source": [
    "# IP確認 APIへアクセスして結果を表示\n",
    "# モジュールを取り込む\n",
    "import urllib.request\n",
    "\n",
    "# データを取得\n",
    "url = \"http://api.aoikujira.com/ip/ini\"\n",
    "res = urllib.request.urlopen(url)\n",
    "data = res.read()\n",
    "\n",
    "# バイナリを文字列に変換\n",
    "text = data.decode(\"utf-8\")\n",
    "print(text)"
   ]
  },
  {
   "cell_type": "code",
   "execution_count": 22,
   "metadata": {
    "scrolled": true
   },
   "outputs": [
    {
     "name": "stdout",
     "output_type": "stream",
     "text": [
      "url= http://api.aoikujira.com/zip/xml/get.php?fmt=xml&zn=5320005\n",
      "<?xml version=\"1.0\" encoding=\"utf-8\" ?>\n",
      "<address result=\"1\">\n",
      "<header>\n",
      "  <result>1</result>\n",
      "  <api>api.aoikujira.com/zip</api>\n",
      "  <version>1.1</version>\n",
      "</header>\n",
      "<value>\n",
      "  <zip>5320005</zip>\n",
      "  <ken>大阪府</ken>\n",
      "  <shi>大阪市淀川区</shi>\n",
      "  <cho>三国本町</cho>\n",
      "  <disp>大阪府大阪市淀川区三国本町</disp>\n",
      "  <kenkana>オオサカフ</kenkana>\n",
      "  <shikana>オオサカシヨドガワク</shikana>\n",
      "  <chokana>ミクニホンマチ</chokana>\n",
      "</value>\n",
      "</address>\n"
     ]
    }
   ],
   "source": [
    "import urllib.request\n",
    "import urllib.parse\n",
    "\n",
    "API = \"http://api.aoikujira.com/zip/xml/get.php\"\n",
    "\n",
    "# パラメーターをURLエンコードする\n",
    "values = {\n",
    "    'fmt': 'xml',\n",
    "    'zn': '5320005'\n",
    "}\n",
    "params = urllib.parse.urlencode(values)\n",
    "\n",
    "# Request用のURLを生成\n",
    "url = API + \"?\" + params\n",
    "print(\"url=\", url)\n",
    "\n",
    "# ダウンロード\n",
    "data = urllib.request.urlopen(url).read()\n",
    "text = data.decode(\"utf-8\")\n",
    "print(text)"
   ]
  },
  {
   "cell_type": "markdown",
   "metadata": {},
   "source": [
    "### コマンドラインからキーワードを与えてみる"
   ]
  },
  {
   "cell_type": "code",
   "execution_count": 26,
   "metadata": {},
   "outputs": [
    {
     "name": "stdout",
     "output_type": "stream",
     "text": [
      "url= http://api.aoikujira.com/hyakunin/get.php?fmt=ini&key=-f\n",
      "\n"
     ]
    }
   ],
   "source": [
    "#!/usr/bin/env python3\n",
    "\n",
    "# ライブラリの取り込み\n",
    "import sys\n",
    "import urllib.request as req\n",
    "import urllib.parse as parse\n",
    "\n",
    "# コマンドライン引数を得る\n",
    "if len (sys.argv) <= 1:\n",
    "    print(\"USAGE: hyakunin.py (keyword)\")\n",
    "    sys.exit()\n",
    "keyword = sys.argv[1]\n",
    "    \n",
    "# パラメータをURLエンコードする\n",
    "API = \"http://api.aoikujira.com/hyakunin/get.php\"\n",
    "query = {\n",
    "    \"fmt\": \"ini\",\n",
    "    \"key\": keyword\n",
    "}\n",
    "params = parse.urlencode(query)\n",
    "url = API + \"?\" + params\n",
    "print (\"url=\", url)\n",
    "\n",
    "# ダウンロード\n",
    "with req.urlopen(url) as r:\n",
    "    b = r.read()\n",
    "    data = b.decode('utf-8')\n",
    "    print(data)"
   ]
  },
  {
   "cell_type": "markdown",
   "metadata": {},
   "source": [
    "#### BeautifulSoup でスクレイピング"
   ]
  },
  {
   "cell_type": "code",
   "execution_count": 30,
   "metadata": {},
   "outputs": [
    {
     "ename": "SyntaxError",
     "evalue": "EOL while scanning string literal (<ipython-input-30-07d3b7e42194>, line 23)",
     "output_type": "error",
     "traceback": [
      "\u001b[0;36m  File \u001b[0;32m\"<ipython-input-30-07d3b7e42194>\"\u001b[0;36m, line \u001b[0;32m23\u001b[0m\n\u001b[0;31m    print (\"h1\" = \" + h1.string)\u001b[0m\n\u001b[0m                                ^\u001b[0m\n\u001b[0;31mSyntaxError\u001b[0m\u001b[0;31m:\u001b[0m EOL while scanning string literal\n"
     ]
    }
   ],
   "source": [
    "# ライブラリ取り込み\n",
    "from bs4 import BeautifulSoup\n",
    "\n",
    "# 解析したいHTML\n",
    "\n",
    "html = \"\"\"\n",
    "<html><body>\n",
    "    <h1>スクレイピングとは？</h1>\n",
    "    <p>webページを解析すること</p>\n",
    "    <p>任意の箇所を抽出すること。</p>\n",
    "</body></html>\n",
    "\"\"\"\n",
    "\n",
    "# htmlを解析する\n",
    "soup = BeautifulSoup(html, 'html.parser')\n",
    "\n",
    "# 任意の部分を抽出\n",
    "h1 = soup.html.body.h1\n",
    "p1 = soup.html.body.p\n",
    "p2 = p1.next_sibling.next_sibling\n",
    "\n",
    "# 要素のテキストを表示\n",
    "print (\"h1\" = \" + h1.string)\n",
    "print (\"p\" = \" + p1.string)\n",
    "print (\"p\" = \" + p2.string)"
   ]
  },
  {
   "cell_type": "code",
   "execution_count": null,
   "metadata": {},
   "outputs": [],
   "source": []
  }
 ],
 "metadata": {
  "kernelspec": {
   "display_name": "Python 3",
   "language": "python",
   "name": "python3"
  },
  "language_info": {
   "codemirror_mode": {
    "name": "ipython",
    "version": 3
   },
   "file_extension": ".py",
   "mimetype": "text/x-python",
   "name": "python",
   "nbconvert_exporter": "python",
   "pygments_lexer": "ipython3",
   "version": "3.6.5"
  }
 },
 "nbformat": 4,
 "nbformat_minor": 2
}
