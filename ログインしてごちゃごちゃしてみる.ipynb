{
 "cells": [
  {
   "cell_type": "markdown",
   "metadata": {},
   "source": [
    "## ログインしてごちゃごちゃしてみる"
   ]
  },
  {
   "cell_type": "code",
   "execution_count": 7,
   "metadata": {},
   "outputs": [],
   "source": [
    "# -*- coding: utf-8 -*-\n",
    "from selenium import webdriver\n",
    "from selenium.webdriver.chrome.options import Options\n",
    "import time\n",
    "\n",
    "driver = webdriver.Chrome('/usr/local/bin/chromedriver')  \n",
    "\n",
    "driver.get('URLを記入');\n",
    "time.sleep(5) \n",
    "\n",
    "# ID/PASSを入力\n",
    "id = driver.find_element_by_id(\"login_name\")\n",
    "id.send_keys(\"ID\")\n",
    "password = driver.find_element_by_id(\"login_password\")\n",
    "password.send_keys(\"パスワード\")\n",
    "\n",
    "time.sleep(1)\n",
    "\n",
    "# ログインボタンをクリック\n",
    "login_button = driver.find_element_by_class_name(\"login_btn\")\n",
    "login_button.click()"
   ]
  },
  {
   "cell_type": "code",
   "execution_count": null,
   "metadata": {},
   "outputs": [],
   "source": []
  }
 ],
 "metadata": {
  "kernelspec": {
   "display_name": "Python 3",
   "language": "python",
   "name": "python3"
  },
  "language_info": {
   "codemirror_mode": {
    "name": "ipython",
    "version": 3
   },
   "file_extension": ".py",
   "mimetype": "text/x-python",
   "name": "python",
   "nbconvert_exporter": "python",
   "pygments_lexer": "ipython3",
   "version": "3.6.5"
  }
 },
 "nbformat": 4,
 "nbformat_minor": 2
}
